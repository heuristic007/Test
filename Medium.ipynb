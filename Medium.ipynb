{
  "nbformat": 4,
  "nbformat_minor": 0,
  "metadata": {
    "colab": {
      "name": "Medium.ipynb",
      "provenance": [],
      "include_colab_link": true
    },
    "kernelspec": {
      "name": "python3",
      "display_name": "Python 3"
    }
  },
  "cells": [
    {
      "cell_type": "markdown",
      "metadata": {
        "id": "view-in-github",
        "colab_type": "text"
      },
      "source": [
        "<a href=\"https://colab.research.google.com/github/heuristic007/Test/blob/master/Medium.ipynb\" target=\"_parent\"><img src=\"https://colab.research.google.com/assets/colab-badge.svg\" alt=\"Open In Colab\"/></a>"
      ]
    },
    {
      "cell_type": "code",
      "metadata": {
        "id": "JzbIsjYcMAVD"
      },
      "source": [
        "import numpy as np\n",
        "import pandas as pd\n",
        "from sklearn.metrics import confusion_matrix, accuracy_score\n",
        "from sklearn.metrics import mean_squared_error\n",
        "from sklearn.metrics import mean_absolute_error\n",
        "from sklearn.metrics import r2_score"
      ],
      "execution_count": null,
      "outputs": []
    },
    {
      "cell_type": "code",
      "metadata": {
        "id": "ovQCWXL1fUos"
      },
      "source": [
        "dataset = pd.read_csv('heart.csv')\n",
        "X = dataset.iloc[:,:-1].values\n",
        "y = dataset.iloc[:,-1].values"
      ],
      "execution_count": null,
      "outputs": []
    },
    {
      "cell_type": "code",
      "metadata": {
        "id": "ybqHdJ-ONSnj"
      },
      "source": [
        "#Encoding Categorical Data\n",
        "from sklearn.preprocessing import OneHotEncoder\n",
        "#cp\n",
        "oneHotEncoder = OneHotEncoder(categorical_features=[2], n_values='auto')\n",
        "oneHotEncoder.fit(X)\n",
        "X = oneHotEncoder.transform(X).toarray()\n",
        "X = X[:, 1:]\n",
        "#restecg\n",
        "oneHotEncoder = OneHotEncoder(categorical_features=[8], n_values='auto')\n",
        "oneHotEncoder.fit(X)\n",
        "X = oneHotEncoder.transform(X).toarray()\n",
        "X = X[:, 1:]\n",
        "#slope\n",
        "oneHotEncoder = OneHotEncoder(categorical_features=[13], n_values='auto')\n",
        "oneHotEncoder.fit(X)\n",
        "X = oneHotEncoder.transform(X).toarray()\n",
        "X = X[:, 1:]\n",
        "#ca\n",
        "oneHotEncoder = OneHotEncoder(categorical_features=[15], n_values='auto')\n",
        "oneHotEncoder.fit(X)\n",
        "X = oneHotEncoder.transform(X).toarray()\n",
        "X = X[:, 1:]\n",
        "#thal\n",
        "oneHotEncoder = OneHotEncoder(categorical_features=[19], n_values='auto')\n",
        "oneHotEncoder.fit(X)\n",
        "X = oneHotEncoder.transform(X).toarray()\n",
        "X = X[:, 1:]\n",
        "\n",
        "from sklearn.preprocessing import StandardScaler\n",
        "scalerX = StandardScaler()\n",
        "X = scalerX.fit_transform(X)"
      ],
      "execution_count": null,
      "outputs": []
    },
    {
      "cell_type": "code",
      "metadata": {
        "id": "zXXH02dmMJ-a"
      },
      "source": [
        "from sklearn.model_selection import train_test_split\n",
        "XTrain, XTest, yTrain, yTest = train_test_split(X, y, test_size=0.3, random_state=0)"
      ],
      "execution_count": null,
      "outputs": []
    },
    {
      "cell_type": "code",
      "metadata": {
        "id": "YJRVxstIMPS7",
        "colab": {
          "base_uri": "https://localhost:8080/",
          "height": 102
        },
        "outputId": "3cce544d-7a81-4607-a460-ffbffd48da4f"
      },
      "source": [
        "#Logistic Regression\n",
        "from sklearn.linear_model import LogisticRegression\n",
        "classifier = LogisticRegression()\n",
        "classifier.fit(XTrain,yTrain)\n",
        "yPred = classifier.predict(XTest)\n",
        "mse = mean_squared_error(yTest,yPred)\n",
        "r = r2_score(yTest,yPred)\n",
        "mae = mean_absolute_error(yTest,yPred)\n",
        "accuracy = accuracy_score(yTest,yPred)\n",
        "print(\"Logistic Regression :\")\n",
        "print(\"Accuracy = \", accuracy)\n",
        "print(\"Mean Squared Error:\",mse)\n",
        "print(\"R score:\",r)\n",
        "print(\"Mean Absolute Error:\",mae)"
      ],
      "execution_count": null,
      "outputs": [
        {
          "output_type": "stream",
          "text": [
            "Logistic Regression :\n",
            "Accuracy =  0.8896103896103896\n",
            "Mean Squared Error: 0.11038961038961038\n",
            "R score: 0.5569282843240955\n",
            "Mean Absolute Error: 0.11038961038961038\n"
          ],
          "name": "stdout"
        }
      ]
    },
    {
      "cell_type": "code",
      "metadata": {
        "id": "vNMuvrjhMWUV",
        "colab": {
          "base_uri": "https://localhost:8080/",
          "height": 102
        },
        "outputId": "88ebbba5-f18c-4b75-bd00-e296244e9d64"
      },
      "source": [
        "#K Nearest Neighbors\n",
        "from sklearn.neighbors import KNeighborsClassifier\n",
        "classifier = KNeighborsClassifier(n_neighbors=5, p=2, metric='minkowski')\n",
        "classifier.fit(XTrain,yTrain)\n",
        "yPred = classifier.predict(XTest)\n",
        "mse = mean_squared_error(yTest,yPred)\n",
        "r = r2_score(yTest,yPred)\n",
        "mae = mean_absolute_error(yTest,yPred)\n",
        "accuracy = accuracy_score(yTest,yPred)\n",
        "print(\"K Nearest Neighbors :\")\n",
        "print(\"Accuracy = \", accuracy)\n",
        "print(\"Mean Squared Error:\",mse)\n",
        "print(\"R score:\",r)\n",
        "print(\"Mean Absolute Error:\",mae)"
      ],
      "execution_count": null,
      "outputs": [
        {
          "output_type": "stream",
          "text": [
            "K Nearest Neighbors :\n",
            "Accuracy =  0.8831168831168831\n",
            "Mean Squared Error: 0.11688311688311688\n",
            "R score: 0.5308652422255129\n",
            "Mean Absolute Error: 0.11688311688311688\n"
          ],
          "name": "stdout"
        }
      ]
    },
    {
      "cell_type": "code",
      "metadata": {
        "id": "hmQ4V3LoMYVC",
        "colab": {
          "base_uri": "https://localhost:8080/",
          "height": 102
        },
        "outputId": "8e934c1c-0327-4f57-aa9e-af997c013c1f"
      },
      "source": [
        "#Support Vector Machine\n",
        "from sklearn.svm import SVC\n",
        "classifier = SVC(kernel='linear',random_state=0)\n",
        "classifier.fit(XTrain,yTrain)\n",
        "yPred = classifier.predict(XTest)\n",
        "mse = mean_squared_error(yTest,yPred)\n",
        "r = r2_score(yTest,yPred)\n",
        "mae = mean_absolute_error(yTest,yPred)\n",
        "accuracy = accuracy_score(yTest,yPred)\n",
        "print(\"Support Vector Machine :\")\n",
        "print(\"Accuracy = \", accuracy)\n",
        "print(\"Mean Squared Error:\",mse)\n",
        "print(\"R score:\",r)\n",
        "print(\"Mean Absolute Error:\",mae)"
      ],
      "execution_count": null,
      "outputs": [
        {
          "output_type": "stream",
          "text": [
            "Support Vector Machine :\n",
            "Accuracy =  0.8928571428571429\n",
            "Mean Squared Error: 0.10714285714285714\n",
            "R score: 0.5699598053733869\n",
            "Mean Absolute Error: 0.10714285714285714\n"
          ],
          "name": "stdout"
        }
      ]
    },
    {
      "cell_type": "code",
      "metadata": {
        "id": "1u1lSzK0MaWy",
        "colab": {
          "base_uri": "https://localhost:8080/",
          "height": 102
        },
        "outputId": "b5d0a4b1-f9ad-4a69-9926-2908c6d9a6ad"
      },
      "source": [
        "#Gaussian Naive Bayes\n",
        "from sklearn.naive_bayes import GaussianNB\n",
        "classifier = GaussianNB()\n",
        "classifier.fit(XTrain,yTrain)\n",
        "yPred = classifier.predict(XTest)\n",
        "mse = mean_squared_error(yTest,yPred)\n",
        "r = r2_score(yTest,yPred)\n",
        "mae = mean_absolute_error(yTest,yPred)\n",
        "accuracy = accuracy_score(yTest,yPred)\n",
        "print(\"Gaussian Naive Bayes :\")\n",
        "print(\"Accuracy = \", accuracy)\n",
        "print(\"Mean Squared Error:\",mse)\n",
        "print(\"R score:\",r)\n",
        "print(\"Mean Absolute Error:\",mae)"
      ],
      "execution_count": null,
      "outputs": [
        {
          "output_type": "stream",
          "text": [
            "Gaussian Naive Bayes :\n",
            "Accuracy =  0.8733766233766234\n",
            "Mean Squared Error: 0.1266233766233766\n",
            "R score: 0.49177067907763905\n",
            "Mean Absolute Error: 0.1266233766233766\n"
          ],
          "name": "stdout"
        }
      ]
    },
    {
      "cell_type": "code",
      "metadata": {
        "id": "C04gVLARMcTk",
        "colab": {
          "base_uri": "https://localhost:8080/",
          "height": 102
        },
        "outputId": "aa24f3c4-41a7-4f34-8dd0-55899cc30e69"
      },
      "source": [
        "\n",
        "#Decision Tree Classifier\n",
        "from sklearn.tree import DecisionTreeClassifier as DT\n",
        "classifier = DT(criterion='entropy', random_state=0)\n",
        "classifier.fit(XTrain,yTrain)\n",
        "yPred = classifier.predict(XTest)\n",
        "mse = mean_squared_error(yTest,yPred)\n",
        "r = r2_score(yTest,yPred)\n",
        "mae = mean_absolute_error(yTest,yPred)\n",
        "accuracy = accuracy_score(yTest,yPred)\n",
        "print(\"Decision Tree Classifier :\")\n",
        "print(\"Mean Squared Error:\",mse)\n",
        "print(\"R score:\",r)\n",
        "print(\"Mean Absolute Error:\",mae)\n",
        "print(\"Accuracy = \", accuracy)"
      ],
      "execution_count": null,
      "outputs": [
        {
          "output_type": "stream",
          "text": [
            "Decision Tree Classifier :\n",
            "Mean Squared Error: 0.01948051948051948\n",
            "R score: 0.9218108737042522\n",
            "Mean Absolute Error: 0.01948051948051948\n",
            "Accuracy =  0.9805194805194806\n"
          ],
          "name": "stdout"
        }
      ]
    },
    {
      "cell_type": "code",
      "metadata": {
        "id": "5La5ozXjMeFC",
        "colab": {
          "base_uri": "https://localhost:8080/",
          "height": 102
        },
        "outputId": "06b58744-3902-4cf1-f6e7-bcd822e76809"
      },
      "source": [
        "#Random Forest Classifier\n",
        "from sklearn.ensemble import RandomForestClassifier as RF\n",
        "classifier = RF(n_estimators=10, criterion='entropy', random_state=0)\n",
        "classifier.fit(XTrain,yTrain)\n",
        "yPred = classifier.predict(XTest)\n",
        "mse = mean_squared_error(yTest,yPred)\n",
        "r = r2_score(yTest,yPred)\n",
        "mae = mean_absolute_error(yTest,yPred)\n",
        "accuracy = accuracy_score(yTest,yPred)\n",
        "print(\"Random Forest Classifier :\")\n",
        "print(\"Accuracy = \", accuracy)\n",
        "print(\"Mean Squared Error:\",mse)\n",
        "print(\"R score:\",r)\n",
        "print(\"Mean Absolute Error:\",mae)"
      ],
      "execution_count": null,
      "outputs": [
        {
          "output_type": "stream",
          "text": [
            "Random Forest Classifier :\n",
            "Accuracy =  0.9902597402597403\n",
            "Mean Squared Error: 0.00974025974025974\n",
            "R score: 0.960905436852126\n",
            "Mean Absolute Error: 0.00974025974025974\n"
          ],
          "name": "stdout"
        }
      ]
    },
    {
      "cell_type": "code",
      "metadata": {
        "id": "lK5TSw4hiTi1",
        "colab": {
          "base_uri": "https://localhost:8080/",
          "height": 102
        },
        "outputId": "987e157a-d1e5-4358-939e-f4fa75acc525"
      },
      "source": [
        "#Perceptron\n",
        "from sklearn.linear_model import Perceptron\n",
        "classifier = Perceptron(tol=1e-3, random_state=0)\n",
        "classifier.fit(XTrain,yTrain)\n",
        "yPred = classifier.predict(XTest)\n",
        "mse = mean_squared_error(yTest,yPred)\n",
        "r = r2_score(yTest,yPred)\n",
        "mae = mean_absolute_error(yTest,yPred)\n",
        "accuracy = accuracy_score(yTest,yPred)\n",
        "print(\"Perceptron :\")\n",
        "print(\"Accuracy = \", accuracy)\n",
        "print(\"Mean Squared Error:\",mse)\n",
        "print(\"R score:\",r)\n",
        "print(\"Mean Absolute Error:\",mae)"
      ],
      "execution_count": null,
      "outputs": [
        {
          "output_type": "stream",
          "text": [
            "Perceptron :\n",
            "Accuracy =  0.8409090909090909\n",
            "Mean Squared Error: 0.1590909090909091\n",
            "R score: 0.361455468584726\n",
            "Mean Absolute Error: 0.1590909090909091\n"
          ],
          "name": "stdout"
        }
      ]
    },
    {
      "cell_type": "code",
      "metadata": {
        "id": "9F3qX2IqMiOX",
        "colab": {
          "base_uri": "https://localhost:8080/",
          "height": 1000
        },
        "outputId": "1c5bf8df-0421-4ca1-ea09-31ebcd08ff56"
      },
      "source": [
        "#Artificial Neural Network\n",
        "from keras.models import Sequential\n",
        "from keras.layers import Dense\n",
        "\n",
        "#Initialising ANN\n",
        "classifier = Sequential()\n",
        "\n",
        "#Adding the first hidden layer or the input layer\n",
        "classifier.add(Dense(activation='relu',\n",
        "                     kernel_initializer='uniform',\n",
        "                     input_dim=22,\n",
        "                     units=12))\n",
        "#Adding the second hidden layer\n",
        "classifier.add(Dense(activation='relu',\n",
        "                     kernel_initializer='uniform',\n",
        "                     units=12))\n",
        "#Adding the output layer\n",
        "classifier.add(Dense(activation='sigmoid',\n",
        "                     kernel_initializer='uniform',\n",
        "                     units=1))\n",
        "\n",
        "#Compiling the ANN\n",
        "classifier.compile(optimizer='adam', loss='binary_crossentropy', metrics=['accuracy'])\n",
        "print(classifier.summary())\n",
        "\n",
        "#Fitting the ANN\n",
        "history = classifier.fit(XTrain, yTrain, batch_size=5, epochs=20, verbose=1)\n",
        "from matplotlib import pyplot as plt\n",
        "plt.plot(history.history['acc'],'green')\n",
        "plt.plot(history.history['loss'],'red')\n",
        "plt.title('Model Accuracy-Loss')\n",
        "plt.xlabel('Epoch')\n",
        "plt.legend(['Accuracy','Loss'])\n",
        "plt.show()\n",
        "\n",
        "#Predicting the Test set Results\n",
        "yPred = classifier.predict(XTest)\n",
        "yPred = (yPred>0.5) #Since output is probability\n",
        "mse = mean_squared_error(yTest,yPred)\n",
        "r = r2_score(yTest,yPred)\n",
        "mae = mean_absolute_error(yTest,yPred)\n",
        "accuracy = accuracy_score(yTest,yPred)\n",
        "print(\"Artificial Neural Network Classifier :\")\n",
        "print(\"Accuracy = \", accuracy)\n",
        "print(\"Mean Squared Error:\",mse)\n",
        "print(\"R score:\",r)\n",
        "print(\"Mean Absolute Error:\",mae)\n"
      ],
      "execution_count": null,
      "outputs": [
        {
          "output_type": "stream",
          "text": [
            "Model: \"sequential_18\"\n",
            "_________________________________________________________________\n",
            "Layer (type)                 Output Shape              Param #   \n",
            "=================================================================\n",
            "dense_53 (Dense)             (None, 12)                276       \n",
            "_________________________________________________________________\n",
            "dense_54 (Dense)             (None, 12)                156       \n",
            "_________________________________________________________________\n",
            "dense_55 (Dense)             (None, 1)                 13        \n",
            "=================================================================\n",
            "Total params: 445\n",
            "Trainable params: 445\n",
            "Non-trainable params: 0\n",
            "_________________________________________________________________\n",
            "None\n",
            "Epoch 1/20\n",
            "717/717 [==============================] - 2s 2ms/step - loss: 0.6503 - acc: 0.7280\n",
            "Epoch 2/20\n",
            "717/717 [==============================] - 0s 287us/step - loss: 0.4037 - acc: 0.8382\n",
            "Epoch 3/20\n",
            "717/717 [==============================] - 0s 278us/step - loss: 0.3380 - acc: 0.8466\n",
            "Epoch 4/20\n",
            "717/717 [==============================] - 0s 265us/step - loss: 0.3160 - acc: 0.8577\n",
            "Epoch 5/20\n",
            "717/717 [==============================] - 0s 272us/step - loss: 0.3012 - acc: 0.8745\n",
            "Epoch 6/20\n",
            "717/717 [==============================] - 0s 271us/step - loss: 0.2883 - acc: 0.8801\n",
            "Epoch 7/20\n",
            "717/717 [==============================] - 0s 274us/step - loss: 0.2793 - acc: 0.8926\n",
            "Epoch 8/20\n",
            "717/717 [==============================] - 0s 274us/step - loss: 0.2740 - acc: 0.8940\n",
            "Epoch 9/20\n",
            "717/717 [==============================] - 0s 281us/step - loss: 0.2664 - acc: 0.9024\n",
            "Epoch 10/20\n",
            "717/717 [==============================] - 0s 274us/step - loss: 0.2595 - acc: 0.9079\n",
            "Epoch 11/20\n",
            "717/717 [==============================] - 0s 271us/step - loss: 0.2529 - acc: 0.9135\n",
            "Epoch 12/20\n",
            "717/717 [==============================] - 0s 288us/step - loss: 0.2463 - acc: 0.9107\n",
            "Epoch 13/20\n",
            "717/717 [==============================] - 0s 268us/step - loss: 0.2403 - acc: 0.9219\n",
            "Epoch 14/20\n",
            "717/717 [==============================] - 0s 267us/step - loss: 0.2347 - acc: 0.9135\n",
            "Epoch 15/20\n",
            "717/717 [==============================] - 0s 265us/step - loss: 0.2265 - acc: 0.9289\n",
            "Epoch 16/20\n",
            "717/717 [==============================] - 0s 270us/step - loss: 0.2198 - acc: 0.9205\n",
            "Epoch 17/20\n",
            "717/717 [==============================] - 0s 297us/step - loss: 0.2130 - acc: 0.9344\n",
            "Epoch 18/20\n",
            "717/717 [==============================] - 0s 266us/step - loss: 0.2087 - acc: 0.9414\n",
            "Epoch 19/20\n",
            "717/717 [==============================] - 0s 266us/step - loss: 0.2020 - acc: 0.9386\n",
            "Epoch 20/20\n",
            "717/717 [==============================] - 0s 265us/step - loss: 0.1951 - acc: 0.9484\n"
          ],
          "name": "stdout"
        },
        {
          "output_type": "display_data",
          "data": {
            "image/png": "[encoded data removed]",
            "text/plain": [
              "<Figure size 432x288 with 1 Axes>"
            ]
          },
          "metadata": {
            "tags": []
          }
        },
        {
          "output_type": "stream",
          "text": [
            "Artificial Neural Network Classifier :\n",
            "Accuracy =  0.9642857142857143\n",
            "Mean Squared Error: 0.03571428571428571\n",
            "R score: 0.8566532684577957\n",
            "Mean Absolute Error: 0.03571428571428571\n"
          ],
          "name": "stdout"
        }
      ]
    },
    {
      "cell_type": "code",
      "metadata": {
        "id": "CMU2fTyrOF8u",
        "colab": {
          "base_uri": "https://localhost:8080/",
          "height": 221
        },
        "outputId": "621dfdfb-8dca-46e6-fffa-5b7c991be3c7"
      },
      "source": [
        "from prettytable import PrettyTable\n",
        "table = PrettyTable()\n",
        "table.field_names = [\"Model\",\"Accuracy\", \"Mean Squared Error\", \"R² score\",\"Mean Absolute Error\"]\n",
        "models = [\n",
        "    LogisticRegression(),\n",
        "    KNeighborsClassifier(n_neighbors=5, p=2, metric='minkowski'),\n",
        "    SVC(kernel='linear',random_state=0),\n",
        "    GaussianNB(),\n",
        "    DT(criterion='entropy', random_state=0),\n",
        "    RF(n_estimators=10, criterion='entropy', random_state=0),\n",
        "    Perceptron(tol=1e-3, random_state=0)\n",
        "]\n",
        "for model in models:\n",
        "    model.fit(XTrain, yTrain) \n",
        "    yPred = model.predict(XTest)\n",
        "    accuracy = accuracy_score(yTest,yPred)\n",
        "    mse = mean_squared_error(yTest,yPred)\n",
        "    r = r2_score(yTest,yPred)\n",
        "    mae = mean_absolute_error(yTest,yPred)   \n",
        "\n",
        "    table.add_row([type(model).__name__, format(accuracy, '.3f'),format(mse, '.3f'),format(r, '.3f'),format(mae, '.3f')])\n",
        "    \n",
        "table.add_row([\"Artificial Neural Network Classifier\",0.954 ,0.045,0.817,0.045])\n",
        "print(table)"
      ],
      "execution_count": null,
      "outputs": [
        {
          "output_type": "stream",
          "text": [
            "+--------------------------------------+----------+--------------------+----------+---------------------+\n",
            "|                Model                 | Accuracy | Mean Squared Error | R² score | Mean Absolute Error |\n",
            "+--------------------------------------+----------+--------------------+----------+---------------------+\n",
            "|          LogisticRegression          |  0.890   |       0.110        |  0.557   |        0.110        |\n",
            "|         KNeighborsClassifier         |  0.883   |       0.117        |  0.531   |        0.117        |\n",
            "|                 SVC                  |  0.893   |       0.107        |  0.570   |        0.107        |\n",
            "|              GaussianNB              |  0.873   |       0.127        |  0.492   |        0.127        |\n",
            "|        DecisionTreeClassifier        |  0.981   |       0.019        |  0.922   |        0.019        |\n",
            "|        RandomForestClassifier        |  0.990   |       0.010        |  0.961   |        0.010        |\n",
            "|              Perceptron              |  0.841   |       0.159        |  0.361   |        0.159        |\n",
            "| Artificial Neural Network Classifier |  0.954   |       0.045        |  0.817   |        0.045        |\n",
            "+--------------------------------------+----------+--------------------+----------+---------------------+\n"
          ],
          "name": "stdout"
        }
      ]
    },
    {
      "cell_type": "markdown",
      "metadata": {
        "id": "t-ueLWI3fhc5"
      },
      "source": [
        ""
      ]
    },
    {
      "cell_type": "code",
      "metadata": {
        "id": "JiOC8NpPTnYG"
      },
      "source": [
        ""
      ],
      "execution_count": null,
      "outputs": []
    }
  ]
}