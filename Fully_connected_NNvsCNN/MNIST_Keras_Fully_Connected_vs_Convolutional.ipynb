{
  "nbformat": 4,
  "nbformat_minor": 0,
  "metadata": {
    "colab": {
      "name": "MNIST_Keras_Fully_Connected_vs_Convolutional.ipynb",
      "provenance": [],
      "collapsed_sections": [],
      "include_colab_link": true
    },
    "kernelspec": {
      "name": "python3",
      "display_name": "Python 3"
    }
  },
  "cells": [
    {
      "cell_type": "markdown",
      "metadata": {
        "id": "view-in-github",
        "colab_type": "text"
      },
      "source": [
        "<a href=\"https://colab.research.google.com/github/heuristic007/Test/blob/master/Fully_connected_NNvsCNN/MNIST_Keras_Fully_Connected_vs_Convolutional.ipynb\" target=\"_parent\"><img src=\"https://colab.research.google.com/assets/colab-badge.svg\" alt=\"Open In Colab\"/></a>"
      ]
    },
    {
      "cell_type": "code",
      "source": [
        ""
      ],
      "metadata": {
        "id": "H5wt1oT-Nhzv"
      },
      "execution_count": null,
      "outputs": []
    },
    {
      "cell_type": "markdown",
      "metadata": {
        "id": "eos804vM3DXQ"
      },
      "source": [
        "Loading libraries"
      ]
    },
    {
      "cell_type": "code",
      "metadata": {
        "id": "E7-sg19p3DvG"
      },
      "source": [
        "import pandas as pd\n",
        "import numpy as np\n",
        "import matplotlib.pyplot as plt\n",
        "\n",
        "from keras.datasets import mnist\n",
        "from keras.utils.np_utils import to_categorical\n",
        "\n",
        "from keras.models import Sequential\n",
        "from keras.layers import Dense,Conv2D,Flatten, Activation,MaxPool2D "
      ],
      "execution_count": null,
      "outputs": []
    },
    {
      "cell_type": "markdown",
      "metadata": {
        "id": "tmsgtXcv2F9t"
      },
      "source": [
        "Loading dataset"
      ]
    },
    {
      "cell_type": "code",
      "metadata": {
        "id": "pwVgn5LWzr8_",
        "outputId": "0c648312-cda8-4102-a023-2103482059ff",
        "colab": {
          "base_uri": "https://localhost:8080/",
          "height": 51
        }
      },
      "source": [
        "(X_train,y_train),(X_test,y_test)=mnist.load_data()"
      ],
      "execution_count": null,
      "outputs": [
        {
          "output_type": "stream",
          "text": [
            "Downloading data from https://storage.googleapis.com/tensorflow/tf-keras-datasets/mnist.npz\n",
            "11493376/11490434 [==============================] - 0s 0us/step\n"
          ],
          "name": "stdout"
        }
      ]
    },
    {
      "cell_type": "markdown",
      "metadata": {
        "id": "QxKldaw72JIb"
      },
      "source": [
        "Shape of the data "
      ]
    },
    {
      "cell_type": "code",
      "metadata": {
        "id": "iLKt1ASIz6Pt",
        "outputId": "638e7a7e-2c3c-46b4-baa2-619f358a3b9f",
        "colab": {
          "base_uri": "https://localhost:8080/",
          "height": 51
        }
      },
      "source": [
        "print('Training data ',X_train.shape,'-',y_train.shape)\n",
        "print('Test data ',X_test.shape,'-',y_test.shape)"
      ],
      "execution_count": null,
      "outputs": [
        {
          "output_type": "stream",
          "text": [
            "Training data  (60000, 28, 28) - (60000,)\n",
            "Test data  (10000, 28, 28) - (10000,)\n"
          ],
          "name": "stdout"
        }
      ]
    },
    {
      "cell_type": "markdown",
      "metadata": {
        "id": "1fUA8aKX226i"
      },
      "source": [
        "Viewing MNIST data"
      ]
    },
    {
      "cell_type": "code",
      "metadata": {
        "id": "HIgWtqZF24d9",
        "outputId": "45121cb3-db14-40ee-e6af-13ca78b229bc",
        "colab": {
          "base_uri": "https://localhost:8080/",
          "height": 265
        }
      },
      "source": [
        "plt.imshow(X_train[0],cmap='gray')\n",
        "plt.axis('off')"
      ],
      "execution_count": null,
      "outputs": [
        {
          "output_type": "execute_result",
          "data": {
            "text/plain": [
              "(-0.5, 27.5, 27.5, -0.5)"
            ]
          },
          "metadata": {
            "tags": []
          },
          "execution_count": 4
        },
        {
          "output_type": "display_data",
          "data": {
            "image/png": "[encoded data removed]",
            "text/plain": [
              "<Figure size 432x288 with 1 Axes>"
            ]
          },
          "metadata": {
            "tags": [],
            "needs_background": "light"
          }
        }
      ]
    },
    {
      "cell_type": "code",
      "metadata": {
        "id": "RnQu6zv13vRT",
        "outputId": "14efb291-5fd8-4faa-9f85-e72ba624d038",
        "colab": {
          "base_uri": "https://localhost:8080/",
          "height": 248
        }
      },
      "source": [
        "## Viewing more from training dataset\n",
        "for i in range(6):\n",
        "  plt.subplot(3,2,i+1)\n",
        "  plt.imshow(X_train[i],cmap='gray')\n",
        "  plt.subplots_adjust(hspace = .03,wspace=0.025)\n",
        "  plt.axis('off')"
      ],
      "execution_count": null,
      "outputs": [
        {
          "output_type": "display_data",
          "data": {
            "image/png": "[encoded data removed]",
            "text/plain": [
              "<Figure size 432x288 with 6 Axes>"
            ]
          },
          "metadata": {
            "tags": [],
            "needs_background": "light"
          }
        }
      ]
    },
    {
      "cell_type": "code",
      "metadata": {
        "id": "2wtbppWE4-Gu"
      },
      "source": [
        "#Reshape data into a long vector \n",
        "X_train = X_train.reshape(-1, 28*28)\n",
        "X_test = X_test.reshape(-1, 28*28)"
      ],
      "execution_count": null,
      "outputs": []
    },
    {
      "cell_type": "code",
      "metadata": {
        "id": "bBbAdDbd7itb"
      },
      "source": [
        "## Scaling data \n",
        "X_train = X_train.astype('float32')\n",
        "X_test = X_test.astype('float32')\n",
        "X_train /= 255.0\n",
        "X_test /= 255.0"
      ],
      "execution_count": null,
      "outputs": []
    },
    {
      "cell_type": "code",
      "metadata": {
        "id": "Ww7jpHV17oZz"
      },
      "source": [
        "# Categorical encoding\n",
        "y_train_cat = to_categorical(y_train)\n",
        "y_test_cat = to_categorical(y_test)\n"
      ],
      "execution_count": null,
      "outputs": []
    },
    {
      "cell_type": "code",
      "metadata": {
        "id": "DIMDfQTJ7tkg",
        "outputId": "851a4b73-924e-4eb3-8b87-8639c0507056",
        "colab": {
          "base_uri": "https://localhost:8080/",
          "height": 51
        }
      },
      "source": [
        "#Let's see what happened to categorical variable \n",
        "print(y_train[0])\n",
        "print(y_train_cat[0])"
      ],
      "execution_count": null,
      "outputs": [
        {
          "output_type": "stream",
          "text": [
            "5\n",
            "[0. 0. 0. 0. 0. 1. 0. 0. 0. 0.]\n"
          ],
          "name": "stdout"
        }
      ]
    },
    {
      "cell_type": "markdown",
      "metadata": {
        "id": "bgyGSrf7-Cw7"
      },
      "source": [
        "Model1 - Fully Connected Network"
      ]
    },
    {
      "cell_type": "code",
      "metadata": {
        "id": "Zlgwsudh70d1",
        "outputId": "b4cec8b5-4f81-4b3e-8fa8-3a3fc00492c5",
        "colab": {
          "base_uri": "https://localhost:8080/",
          "height": 323
        }
      },
      "source": [
        "## Fully Connected Architecture \n",
        "\n",
        "model = Sequential()\n",
        "model.add(Dense(256, input_dim=28*28, activation='relu'))\n",
        "model.add(Dense(256, activation='relu'))\n",
        "model.add(Dense(128, activation='relu'))\n",
        "model.add(Dense(32, activation='relu'))\n",
        "model.add(Dense(10, activation='softmax'))\n",
        "\n",
        "model.compile(loss='categorical_crossentropy',\n",
        "              optimizer='rmsprop',\n",
        "              metrics=['accuracy'])\n",
        "\n",
        "\n",
        "## Printing model summary \n",
        "model.summary()\n"
      ],
      "execution_count": null,
      "outputs": [
        {
          "output_type": "stream",
          "text": [
            "Model: \"sequential\"\n",
            "_________________________________________________________________\n",
            "Layer (type)                 Output Shape              Param #   \n",
            "=================================================================\n",
            "dense (Dense)                (None, 256)               200960    \n",
            "_________________________________________________________________\n",
            "dense_1 (Dense)              (None, 256)               65792     \n",
            "_________________________________________________________________\n",
            "dense_2 (Dense)              (None, 128)               32896     \n",
            "_________________________________________________________________\n",
            "dense_3 (Dense)              (None, 32)                4128      \n",
            "_________________________________________________________________\n",
            "dense_4 (Dense)              (None, 10)                330       \n",
            "=================================================================\n",
            "Total params: 304,106\n",
            "Trainable params: 304,106\n",
            "Non-trainable params: 0\n",
            "_________________________________________________________________\n"
          ],
          "name": "stdout"
        }
      ]
    },
    {
      "cell_type": "code",
      "metadata": {
        "id": "_rHb9UyP-jEs",
        "outputId": "b521254a-6cb8-449d-a9f0-d383ebcc4e06",
        "colab": {
          "base_uri": "https://localhost:8080/",
          "height": 187
        }
      },
      "source": [
        "# Fitting fully connected model with validation_split as 0.3\n",
        "h = model.fit(X_train, y_train_cat, batch_size=128, epochs=5, verbose=1, validation_split=0.3)"
      ],
      "execution_count": null,
      "outputs": [
        {
          "output_type": "stream",
          "text": [
            "Epoch 1/5\n",
            "329/329 [==============================] - 3s 10ms/step - loss: 0.3534 - accuracy: 0.8920 - val_loss: 0.3728 - val_accuracy: 0.8866\n",
            "Epoch 2/5\n",
            "329/329 [==============================] - 3s 10ms/step - loss: 0.1257 - accuracy: 0.9609 - val_loss: 0.1081 - val_accuracy: 0.9676\n",
            "Epoch 3/5\n",
            "329/329 [==============================] - 3s 10ms/step - loss: 0.0799 - accuracy: 0.9764 - val_loss: 0.1069 - val_accuracy: 0.9684\n",
            "Epoch 4/5\n",
            "329/329 [==============================] - 3s 10ms/step - loss: 0.0575 - accuracy: 0.9825 - val_loss: 0.1002 - val_accuracy: 0.9734\n",
            "Epoch 5/5\n",
            "329/329 [==============================] - 3s 10ms/step - loss: 0.0449 - accuracy: 0.9865 - val_loss: 0.1534 - val_accuracy: 0.9607\n"
          ],
          "name": "stdout"
        }
      ]
    },
    {
      "cell_type": "code",
      "metadata": {
        "id": "8qhdFq6s-Lt3",
        "outputId": "8978a3c1-8e44-44ab-ee73-d746017f3343",
        "colab": {
          "base_uri": "https://localhost:8080/",
          "height": 312
        }
      },
      "source": [
        "## Visualising Training and Validation Accuracy\n",
        "plt.plot(h.history['accuracy'])\n",
        "plt.plot(h.history['val_accuracy'])\n",
        "plt.legend(['Training', 'Validation'])\n",
        "plt.title('Accuracy')\n",
        "plt.xlabel('Epochs')"
      ],
      "execution_count": null,
      "outputs": [
        {
          "output_type": "execute_result",
          "data": {
            "text/plain": [
              "Text(0.5, 0, 'Epochs')"
            ]
          },
          "metadata": {
            "tags": []
          },
          "execution_count": 12
        },
        {
          "output_type": "display_data",
          "data": {
            "image/png": "[encoded data removed]",
            "text/plain": [
              "<Figure size 432x288 with 1 Axes>"
            ]
          },
          "metadata": {
            "tags": [],
            "needs_background": "light"
          }
        }
      ]
    },
    {
      "cell_type": "code",
      "metadata": {
        "id": "McoTIw4d-Zr2",
        "outputId": "f8d55a04-3332-41f2-c45c-f274cda62d61",
        "colab": {
          "base_uri": "https://localhost:8080/",
          "height": 51
        }
      },
      "source": [
        "test_accuracy = model.evaluate(X_test, y_test_cat)[1]\n",
        "print(\"Test Accuracy\",np.round((test_accuracy)*100,2))"
      ],
      "execution_count": null,
      "outputs": [
        {
          "output_type": "stream",
          "text": [
            "313/313 [==============================] - 0s 1ms/step - loss: 0.1449 - accuracy: 0.9618\n",
            "Test Accuracy 96.18\n"
          ],
          "name": "stdout"
        }
      ]
    },
    {
      "cell_type": "markdown",
      "metadata": {
        "id": "WuXDSnB4Lus3"
      },
      "source": [
        "Model 2 - Convolutional Network "
      ]
    },
    {
      "cell_type": "code",
      "metadata": {
        "id": "nGPmalqJpQpo"
      },
      "source": [
        "## Reshaping independent variable for CNN\n",
        "X_train = X_train.reshape(-1, 28, 28, 1)\n",
        "X_test = X_test.reshape(-1, 28, 28, 1)"
      ],
      "execution_count": null,
      "outputs": []
    },
    {
      "cell_type": "code",
      "metadata": {
        "id": "gjiMAk8DLzjU",
        "outputId": "2a405392-2568-4a0e-d826-229028ad44dc",
        "colab": {
          "base_uri": "https://localhost:8080/",
          "height": 391
        }
      },
      "source": [
        "# CNN architecture\n",
        "model2 = Sequential()\n",
        "model2.add(Conv2D(32, (3, 3), input_shape=(28, 28, 1),activation='relu'))\n",
        "model2.add(MaxPool2D(pool_size=(2, 2)))\n",
        "model2.add(Conv2D(32, (3, 3),activation='relu'))\n",
        "model2.add(Conv2D(32, (3, 3),activation='relu'))\n",
        "model2.add(Flatten())\n",
        "model2.add(Dense(32, activation='relu'))\n",
        "model2.add(Dense(10, activation='softmax'))\n",
        "\n",
        "model2.compile(loss='categorical_crossentropy',\n",
        "              optimizer='rmsprop',\n",
        "              metrics=['accuracy'])\n",
        "\n",
        "\n",
        "model2.summary()\n"
      ],
      "execution_count": null,
      "outputs": [
        {
          "output_type": "stream",
          "text": [
            "Model: \"sequential_1\"\n",
            "_________________________________________________________________\n",
            "Layer (type)                 Output Shape              Param #   \n",
            "=================================================================\n",
            "conv2d (Conv2D)              (None, 26, 26, 32)        320       \n",
            "_________________________________________________________________\n",
            "max_pooling2d (MaxPooling2D) (None, 13, 13, 32)        0         \n",
            "_________________________________________________________________\n",
            "conv2d_1 (Conv2D)            (None, 11, 11, 32)        9248      \n",
            "_________________________________________________________________\n",
            "conv2d_2 (Conv2D)            (None, 9, 9, 32)          9248      \n",
            "_________________________________________________________________\n",
            "flatten (Flatten)            (None, 2592)              0         \n",
            "_________________________________________________________________\n",
            "dense_5 (Dense)              (None, 32)                82976     \n",
            "_________________________________________________________________\n",
            "dense_6 (Dense)              (None, 10)                330       \n",
            "=================================================================\n",
            "Total params: 102,122\n",
            "Trainable params: 102,122\n",
            "Non-trainable params: 0\n",
            "_________________________________________________________________\n"
          ],
          "name": "stdout"
        }
      ]
    },
    {
      "cell_type": "code",
      "metadata": {
        "id": "KiVaKpscMN-1",
        "outputId": "d34ce72d-c9ee-4728-d2b0-11721310a916",
        "colab": {
          "base_uri": "https://localhost:8080/",
          "height": 187
        }
      },
      "source": [
        "h1=model2.fit(X_train, y_train_cat, batch_size=128,epochs=5, verbose=1, validation_split=0.3)"
      ],
      "execution_count": null,
      "outputs": [
        {
          "output_type": "stream",
          "text": [
            "Epoch 1/5\n",
            "329/329 [==============================] - 34s 103ms/step - loss: 0.2744 - accuracy: 0.9151 - val_loss: 0.1128 - val_accuracy: 0.9671\n",
            "Epoch 2/5\n",
            "329/329 [==============================] - 34s 102ms/step - loss: 0.0706 - accuracy: 0.9789 - val_loss: 0.0958 - val_accuracy: 0.9706\n",
            "Epoch 3/5\n",
            "329/329 [==============================] - 33s 102ms/step - loss: 0.0469 - accuracy: 0.9856 - val_loss: 0.0701 - val_accuracy: 0.9783\n",
            "Epoch 4/5\n",
            "329/329 [==============================] - 33s 102ms/step - loss: 0.0347 - accuracy: 0.9892 - val_loss: 0.0540 - val_accuracy: 0.9851\n",
            "Epoch 5/5\n",
            "329/329 [==============================] - 34s 102ms/step - loss: 0.0266 - accuracy: 0.9919 - val_loss: 0.0457 - val_accuracy: 0.9863\n"
          ],
          "name": "stdout"
        }
      ]
    },
    {
      "cell_type": "code",
      "metadata": {
        "id": "JlhCMug1MXzs",
        "outputId": "8ada79b7-8bd5-4ba3-b617-fcf405199a0d",
        "colab": {
          "base_uri": "https://localhost:8080/",
          "height": 51
        }
      },
      "source": [
        "model2.evaluate(X_test, y_test_cat)"
      ],
      "execution_count": null,
      "outputs": [
        {
          "output_type": "stream",
          "text": [
            "313/313 [==============================] - 3s 10ms/step - loss: 0.0328 - accuracy: 0.9895\n"
          ],
          "name": "stdout"
        },
        {
          "output_type": "execute_result",
          "data": {
            "text/plain": [
              "[0.03282975032925606, 0.9894999861717224]"
            ]
          },
          "metadata": {
            "tags": []
          },
          "execution_count": 17
        }
      ]
    },
    {
      "cell_type": "code",
      "metadata": {
        "id": "ziNgoiNroy41",
        "outputId": "5f93189e-e81f-456c-d838-f648b09a2f36",
        "colab": {
          "base_uri": "https://localhost:8080/",
          "height": 312
        }
      },
      "source": [
        "## Visualising Training and Validation Accuracy\n",
        "plt.plot(h1.history['accuracy'])\n",
        "plt.plot(h1.history['val_accuracy'])\n",
        "plt.legend(['Training', 'Validation'])\n",
        "plt.title('Accuracy')\n",
        "plt.xlabel('Epochs')"
      ],
      "execution_count": null,
      "outputs": [
        {
          "output_type": "execute_result",
          "data": {
            "text/plain": [
              "Text(0.5, 0, 'Epochs')"
            ]
          },
          "metadata": {
            "tags": []
          },
          "execution_count": 18
        },
        {
          "output_type": "display_data",
          "data": {
            "image/png": "[encoded data removed]",
            "text/plain": [
              "<Figure size 432x288 with 1 Axes>"
            ]
          },
          "metadata": {
            "tags": [],
            "needs_background": "light"
          }
        }
      ]
    },
    {
      "cell_type": "code",
      "metadata": {
        "id": "ABWXXdrvp1cn"
      },
      "source": [
        ""
      ],
      "execution_count": null,
      "outputs": []
    }
  ]
}